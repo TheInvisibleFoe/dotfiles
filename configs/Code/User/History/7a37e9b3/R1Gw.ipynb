{
 "cells": [
  {
   "cell_type": "code",
   "execution_count": 19,
   "id": "69f8e391-7b01-43ac-b395-60bfee1aa9de",
   "metadata": {},
   "outputs": [],
   "source": [
    "import numpy as np\n",
    "import matplotlib.pyplot as plt\n",
    "import random"
   ]
  },
  {
   "cell_type": "code",
   "execution_count": 98,
   "id": "94b136de-bb4f-4936-aead-beacea36bbb4",
   "metadata": {},
   "outputs": [],
   "source": [
    "#cards\n",
    "\n",
    "BC = np.asarray(['0b', '1b', '2b', '3b', '4b', '5b', '6b', '7b', '8b', '9b', '+2b', 'Reb',  'Skb'])\n",
    "RC = np.asarray(['0r', '1r', '2r', '3r', '4r', '5r', '6r', '7r', '8r', '9r', '+2r', 'Rer',  'Skr'])\n",
    "YC = np.asarray(['0y', '1y', '2y', '3y', '4y', '5y', '6y', '7y', '8y', '9y', '+2y', 'Rey',  'Sky'])\n",
    "GC = np.asarray(['0g', '1g', '2g', '3g', '4g', '5g', '6g', '7g', '8g', '9g', '+2g', 'Reg',  'Skg'])\n",
    "SC = np.asarray(['+4s','+4s','+4s','+4s','ws','ws','ws','ws','Bls','Bls','Bls','Sws'])\n",
    "ss = np.asarray(['+2','+2','Re','Re','Sk','Sk'])\n",
    "# for i in ss:\n",
    "#     Blue.append(f'{i:s}b')\n",
    "#     Red.append(f'{i:s}r')\n",
    "#     Yellow.append(f'{i:s}y')\n",
    "#     Green.append(f'{i:s}g')\n",
    "AC = np.concatenate((BC,BC,YC,YC,RC,RC,GC,GC,SC))\n"
   ]
  },
  {
   "cell_type": "code",
   "execution_count": 105,
   "id": "3ee2e54d-4db7-48bb-bad3-53496af6e6f8",
   "metadata": {},
   "outputs": [],
   "source": [
    "# not ideal\n",
    "def deal_cards2(AC,num,nop):\n",
    "    Pd = []\n",
    "    deck = list(AC)\n",
    "    for i in range(0,nop):\n",
    "        deal = np.random.choice(AC,num)\n",
    "        Pd.append(deal)\n",
    "        for j in deal:\n",
    "            deck.pop(j)\n",
    "    Pd = np.asarray(Pd)\n",
    "    return Pd"
   ]
  },
  {
   "cell_type": "code",
   "execution_count": 40,
   "id": "b74f2187-da45-4213-9f3a-29a9cd17fd6c",
   "metadata": {},
   "outputs": [
    {
     "data": {
      "text/plain": [
       "array([['Rey', 'Reg', '8r', '9r', '0g', '+2g', '2r'],\n",
       "       ['3g', '7b', '+4s', '5g', '2g', 'ws', 'Rey']], dtype='<U3')"
      ]
     },
     "execution_count": 40,
     "metadata": {},
     "output_type": "execute_result"
    }
   ],
   "source": [
    "deal_cards(AC,7,2)"
   ]
  },
  {
   "cell_type": "code",
   "execution_count": 31,
   "id": "9b918d26-594f-4869-91de-c033190cc159",
   "metadata": {},
   "outputs": [
    {
     "data": {
      "text/plain": [
       "12"
      ]
     },
     "execution_count": 31,
     "metadata": {},
     "output_type": "execute_result"
    }
   ],
   "source": [
    "len(SC)"
   ]
  },
  {
   "cell_type": "code",
   "execution_count": 99,
   "id": "82da6835-de8f-4034-ae47-1758dd083a0e",
   "metadata": {},
   "outputs": [],
   "source": [
    "def deal_cards(AC,num,nop):\n",
    "    Pd = []\n",
    "    deck = list(AC)\n",
    "    random.shuffle(deck)\n",
    "    for i in range(0, nop):\n",
    "        Pd.append(deck[i:i+num*nop:nop])\n",
    "    deck = deck[num*nop:]\n",
    "    return Pd, deck"
   ]
  },
  {
   "cell_type": "code",
   "execution_count": 109,
   "id": "19e6a98a-73b6-40e8-aa63-1bd10a9a80c7",
   "metadata": {},
   "outputs": [
    {
     "data": {
      "text/plain": [
       "[np.str_('Skr'),\n",
       " np.str_('ws'),\n",
       " np.str_('6y'),\n",
       " np.str_('2r'),\n",
       " np.str_('+4s'),\n",
       " np.str_('+2r'),\n",
       " np.str_('6g'),\n",
       " np.str_('Bls'),\n",
       " np.str_('7y'),\n",
       " np.str_('+2y'),\n",
       " np.str_('9b'),\n",
       " np.str_('6y'),\n",
       " np.str_('+2r'),\n",
       " np.str_('7r'),\n",
       " np.str_('Skb'),\n",
       " np.str_('ws'),\n",
       " np.str_('Rey'),\n",
       " np.str_('4b'),\n",
       " np.str_('5y'),\n",
       " np.str_('9y'),\n",
       " np.str_('9y'),\n",
       " np.str_('1b'),\n",
       " np.str_('5g'),\n",
       " np.str_('7g'),\n",
       " np.str_('2y'),\n",
       " np.str_('6g'),\n",
       " np.str_('2b'),\n",
       " np.str_('5y'),\n",
       " np.str_('3y'),\n",
       " np.str_('6b'),\n",
       " np.str_('ws'),\n",
       " np.str_('+2y'),\n",
       " np.str_('5b'),\n",
       " np.str_('9r'),\n",
       " np.str_('0r'),\n",
       " np.str_('8y'),\n",
       " np.str_('0y'),\n",
       " np.str_('9r'),\n",
       " np.str_('Sky'),\n",
       " np.str_('6b'),\n",
       " np.str_('Skb'),\n",
       " np.str_('Skg'),\n",
       " np.str_('0b'),\n",
       " np.str_('3g'),\n",
       " np.str_('7b'),\n",
       " np.str_('1r'),\n",
       " np.str_('4r'),\n",
       " np.str_('2r'),\n",
       " np.str_('1y'),\n",
       " np.str_('6r'),\n",
       " np.str_('+4s'),\n",
       " np.str_('3b'),\n",
       " np.str_('Rer'),\n",
       " np.str_('8r'),\n",
       " np.str_('1g'),\n",
       " np.str_('8g'),\n",
       " np.str_('Reb'),\n",
       " np.str_('0r'),\n",
       " np.str_('Skr'),\n",
       " np.str_('3r'),\n",
       " np.str_('1b'),\n",
       " np.str_('1r'),\n",
       " np.str_('3b'),\n",
       " np.str_('1g'),\n",
       " np.str_('5b'),\n",
       " np.str_('Skg'),\n",
       " np.str_('4g'),\n",
       " np.str_('Rer'),\n",
       " np.str_('9g'),\n",
       " np.str_('2g'),\n",
       " np.str_('8b'),\n",
       " np.str_('+2b'),\n",
       " np.str_('4y'),\n",
       " np.str_('2g'),\n",
       " np.str_('Rey'),\n",
       " np.str_('5r'),\n",
       " np.str_('6r'),\n",
       " np.str_('7g'),\n",
       " np.str_('5r'),\n",
       " np.str_('0b'),\n",
       " np.str_('Bls'),\n",
       " np.str_('2y'),\n",
       " np.str_('7y'),\n",
       " np.str_('4b'),\n",
       " np.str_('9b'),\n",
       " np.str_('Sws'),\n",
       " np.str_('ws'),\n",
       " np.str_('8r'),\n",
       " np.str_('Sky'),\n",
       " np.str_('7r'),\n",
       " np.str_('4g'),\n",
       " np.str_('5g'),\n",
       " np.str_('Reb'),\n",
       " np.str_('9g'),\n",
       " np.str_('3g'),\n",
       " np.str_('Reg'),\n",
       " np.str_('3r'),\n",
       " np.str_('3y'),\n",
       " np.str_('8y'),\n",
       " np.str_('7b'),\n",
       " np.str_('Reg'),\n",
       " np.str_('1y'),\n",
       " np.str_('+4s'),\n",
       " np.str_('+2g'),\n",
       " np.str_('4y'),\n",
       " np.str_('+2b'),\n",
       " np.str_('2b'),\n",
       " np.str_('8b')]"
      ]
     },
     "execution_count": 109,
     "metadata": {},
     "output_type": "execute_result"
    }
   ],
   "source": [
    "[pd, deck] = deal_cards(AC, 4,2)\n",
    "deck"
   ]
  },
  {
   "cell_type": "code",
   "execution_count": 103,
   "id": "f13a4920-e5fc-4b43-95fe-921003711571",
   "metadata": {},
   "outputs": [],
   "source": [
    "def discard(discard_pile, card):\n",
    "    discard_pile = list(discard_pile)\n",
    "    discard_pile.append(card)\n",
    "    return discard_pile"
   ]
  },
  {
   "cell_type": "code",
   "execution_count": 110,
   "id": "097df059-9f33-4b6d-8771-8438aaf1aaff",
   "metadata": {},
   "outputs": [],
   "source": [
    "def first_card(deck):\n",
    "    topcard = deck[0]\n",
    "    if topcard[:-1] in ss or topcard in SC:\n",
    "        deck.append(topcard)\n",
    "        deck.pop(0)\n",
    "        first_card(deck)\n",
    "    else :\n",
    "        return topcard,deck"
   ]
  },
  {
   "cell_type": "code",
   "execution_count": 104,
   "id": "f6f2f262-c6c3-4c4e-a38e-df1d0e147390",
   "metadata": {},
   "outputs": [
    {
     "data": {
      "text/plain": [
       "'+4'"
      ]
     },
     "execution_count": 104,
     "metadata": {},
     "output_type": "execute_result"
    }
   ],
   "source": [
    "tt = '+4s'\n",
    "tt[:-1]"
   ]
  },
  {
   "cell_type": "code",
   "execution_count": 111,
   "id": "81fe0e71-12fd-4c56-bc76-a2169a4afc83",
   "metadata": {},
   "outputs": [],
   "source": [
    "first_card(deck)"
   ]
  },
  {
   "cell_type": "code",
   "execution_count": null,
   "id": "04d1685b-2707-42c4-8792-54c44132b666",
   "metadata": {},
   "outputs": [],
   "source": []
  }
 ],
 "metadata": {
  "kernelspec": {
   "display_name": "jupyter",
   "language": "python",
   "name": "python3"
  },
  "language_info": {
   "codemirror_mode": {
    "name": "ipython",
    "version": 3
   },
   "file_extension": ".py",
   "mimetype": "text/x-python",
   "name": "python",
   "nbconvert_exporter": "python",
   "pygments_lexer": "ipython3",
   "version": "3.12.8"
  }
 },
 "nbformat": 4,
 "nbformat_minor": 5
}
