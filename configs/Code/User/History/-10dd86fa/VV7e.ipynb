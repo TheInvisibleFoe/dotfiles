{
 "cells": [
  {
   "cell_type": "code",
   "execution_count": 1,
   "metadata": {},
   "outputs": [],
   "source": [
    "import numpy as np\n",
    "import matplotlib.pyplot as plt\n",
    "from comphy import root_find\n",
    "from comphy import diff_eq"
   ]
  },
  {
   "cell_type": "code",
   "execution_count": 2,
   "metadata": {},
   "outputs": [
    {
     "name": "stdout",
     "output_type": "stream",
     "text": [
      "n          a          b          c       f(c)\n",
      " 0   0.000000   6.000000   3.000000   2.000000\n",
      " 1   0.000000   3.000000   1.500000   0.500000\n",
      " 2   0.000000   1.500000   0.750000  -0.250000\n",
      " 3   0.750000   1.500000   1.125000   0.125000\n",
      " 4   0.750000   1.125000   0.937500  -0.062500\n",
      " 5   0.937500   1.125000   1.031250   0.031250\n",
      " 6   0.937500   1.031250   0.984375  -0.015625\n",
      " 7   0.984375   1.031250   1.007812   0.007812\n",
      " 8   0.984375   1.007812   0.996094  -0.003906\n",
      " 9   0.996094   1.007812   1.001953   0.001953\n",
      "10   0.996094   1.001953   0.999023  -0.000977\n",
      "11   0.999023   1.001953   1.000488   0.000488\n",
      "12   0.999023   1.000488   0.999756  -0.000244\n",
      "13   0.999756   1.000488   1.000122   0.000122\n",
      "14   0.999756   1.000122   0.999939  -0.000061\n",
      "The root is  0.99993896484375\n"
     ]
    },
    {
     "data": {
      "text/plain": [
       "0.99993896484375"
      ]
     },
     "execution_count": 2,
     "metadata": {},
     "output_type": "execute_result"
    }
   ],
   "source": [
    "rf = root_find\n",
    "f = lambda x: x-1\n",
    "rf.bisection( 0, 6, f, 1e-4,1000)"
   ]
  },
  {
   "cell_type": "code",
   "execution_count": 5,
   "metadata": {},
   "outputs": [
    {
     "ename": "NameError",
     "evalue": "name 'f2' is not defined",
     "output_type": "error",
     "traceback": [
      "\u001b[0;31m---------------------------------------------------------------------------\u001b[0m",
      "\u001b[0;31mNameError\u001b[0m                                 Traceback (most recent call last)",
      "Cell \u001b[0;32mIn[5], line 13\u001b[0m\n\u001b[1;32m     10\u001b[0m y_ini \u001b[38;5;241m=\u001b[39m np\u001b[38;5;241m.\u001b[39masarray([\u001b[38;5;241m1.0\u001b[39m, \u001b[38;5;241m0.0\u001b[39m])  \u001b[38;5;66;03m# Initial condition\u001b[39;00m\n\u001b[1;32m     12\u001b[0m \u001b[38;5;66;03m# Call the methods\u001b[39;00m\n\u001b[0;32m---> 13\u001b[0m ysE \u001b[38;5;241m=\u001b[39m   de\u001b[38;5;241m.\u001b[39mcall(de\u001b[38;5;241m.\u001b[39meuler, t0,t1,N, y_ini, f\u001b[38;5;241m=\u001b[39mf2)\n\u001b[1;32m     14\u001b[0m ysm \u001b[38;5;241m=\u001b[39m   de\u001b[38;5;241m.\u001b[39mcall(de\u001b[38;5;241m.\u001b[39mmidpoint, t0,t1,N,y_ini, f\u001b[38;5;241m=\u001b[39mf2)\n\u001b[1;32m     15\u001b[0m ysrk4 \u001b[38;5;241m=\u001b[39m de\u001b[38;5;241m.\u001b[39mcall(de\u001b[38;5;241m.\u001b[39mrk4, t0,t1,N,y_ini,f\u001b[38;5;241m=\u001b[39mf2)\n",
      "\u001b[0;31mNameError\u001b[0m: name 'f2' is not defined"
     ]
    }
   ],
   "source": [
    "de = diff_eq\n",
    "h = 0.01\n",
    "t0 = 0.0\n",
    "t1 = 14.75\n",
    "\n",
    "N = int(1+ (t1-t0)/h)\n",
    "\n",
    "xs = np.arange(t0, t1+h/2, h)  # Generate range of x values\n",
    "\n",
    "y_ini = np.asarray([1.0, 0.0])  # Initial condition\n",
    "\n",
    "# Call the methods\n",
    "ysE =   de.call(de.euler, t0,t1,N, y_ini, f=f2)\n",
    "ysm =   de.call(de.midpoint, t0,t1,N,y_ini, f=f2)\n",
    "ysrk4 = de.call(de.rk4, t0,t1,N,y_ini,f=f2)"
   ]
  },
  {
   "cell_type": "code",
   "execution_count": null,
   "metadata": {},
   "outputs": [],
   "source": []
  }
 ],
 "metadata": {
  "kernelspec": {
   "display_name": "jupyter",
   "language": "python",
   "name": "python3"
  },
  "language_info": {
   "codemirror_mode": {
    "name": "ipython",
    "version": 3
   },
   "file_extension": ".py",
   "mimetype": "text/x-python",
   "name": "python",
   "nbconvert_exporter": "python",
   "pygments_lexer": "ipython3",
   "version": "3.12.8"
  }
 },
 "nbformat": 4,
 "nbformat_minor": 2
}
