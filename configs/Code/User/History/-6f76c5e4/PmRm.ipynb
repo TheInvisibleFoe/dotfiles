{
 "cells": [
  {
   "cell_type": "code",
   "execution_count": 5,
   "metadata": {},
   "outputs": [],
   "source": [
    "import numpy as np\n",
    "import matplotlib.pyplot as plt\n",
    "import scienceplots\n",
    "from scipy.optimize import curve_fit\n",
    "plt.style.use('science')\n",
    "import comphy"
   ]
  },
  {
   "cell_type": "code",
   "execution_count": 6,
   "metadata": {},
   "outputs": [],
   "source": [
    "def f1(t,x):\n",
    "    y = -x*t\n",
    "    return y"
   ]
  },
  {
   "cell_type": "code",
   "execution_count": 7,
   "metadata": {},
   "outputs": [],
   "source": [
    "\n",
    "a = 0 # t_initial \n",
    "b = 1# t final\n",
    "h = 0.01# step size\n",
    "N = int(1+ (b-a)/h)\n",
    "xval = np.arange(a,b+h/2,h)\n",
    "y0 = np.array([1.0])"
   ]
  },
  {
   "cell_type": "code",
   "execution_count": 9,
   "metadata": {},
   "outputs": [
    {
     "ename": "NameError",
     "evalue": "name 'euler' is not defined",
     "output_type": "error",
     "traceback": [
      "\u001b[0;31m---------------------------------------------------------------------------\u001b[0m",
      "\u001b[0;31mNameError\u001b[0m                                 Traceback (most recent call last)",
      "Cell \u001b[0;32mIn[9], line 2\u001b[0m\n\u001b[1;32m      1\u001b[0m y_exact \u001b[38;5;241m=\u001b[39m np\u001b[38;5;241m.\u001b[39mexp(\u001b[38;5;241m-\u001b[39m(xval\u001b[38;5;241m*\u001b[39m\u001b[38;5;241m*\u001b[39m\u001b[38;5;241m2\u001b[39m)\u001b[38;5;241m/\u001b[39m\u001b[38;5;241m2\u001b[39m)\n\u001b[0;32m----> 2\u001b[0m y_euler \u001b[38;5;241m=\u001b[39m comphy\u001b[38;5;241m.\u001b[39mcall(euler,a,b,N,y0)\n\u001b[1;32m      3\u001b[0m y_mid \u001b[38;5;241m=\u001b[39m comphy\u001b[38;5;241m.\u001b[39mcall(midpoint,a,b,N,y0)\n\u001b[1;32m      4\u001b[0m y_rk4 \u001b[38;5;241m=\u001b[39m call(rk4,a,b,N,y0)\n",
      "\u001b[0;31mNameError\u001b[0m: name 'euler' is not defined"
     ]
    }
   ],
   "source": [
    "\n",
    "y_exact = np.exp(-(xval**2)/2)\n",
    "y_euler = comphy.call(euler,a,b,N,y0)\n",
    "y_mid = comphy.call(midpoint,a,b,N,y0)\n",
    "y_rk4 = call(rk4,a,b,N,y0)"
   ]
  },
  {
   "cell_type": "code",
   "execution_count": null,
   "metadata": {},
   "outputs": [],
   "source": []
  }
 ],
 "metadata": {
  "kernelspec": {
   "display_name": "jupyter",
   "language": "python",
   "name": "python3"
  },
  "language_info": {
   "codemirror_mode": {
    "name": "ipython",
    "version": 3
   },
   "file_extension": ".py",
   "mimetype": "text/x-python",
   "name": "python",
   "nbconvert_exporter": "python",
   "pygments_lexer": "ipython3",
   "version": "3.12.8"
  }
 },
 "nbformat": 4,
 "nbformat_minor": 2
}
