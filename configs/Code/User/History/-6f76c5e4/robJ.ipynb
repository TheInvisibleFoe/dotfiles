{
 "cells": [
  {
   "cell_type": "code",
   "execution_count": 5,
   "metadata": {},
   "outputs": [],
   "source": [
    "import numpy as np\n",
    "import matplotlib.pyplot as plt\n",
    "import scienceplots\n",
    "from scipy.optimize import curve_fit\n",
    "plt.style.use('science')\n",
    "import comphy"
   ]
  },
  {
   "cell_type": "code",
   "execution_count": 6,
   "metadata": {},
   "outputs": [],
   "source": [
    "def f1(t,x):\n",
    "    y = -x*t\n",
    "    return y"
   ]
  },
  {
   "cell_type": "code",
   "execution_count": 7,
   "metadata": {},
   "outputs": [],
   "source": [
    "\n",
    "a = 0 # t_initial \n",
    "b = 1# t final\n",
    "h = 0.01# step size\n",
    "N = int(1+ (b-a)/h)\n",
    "xval = np.arange(a,b+h/2,h)\n",
    "y0 = np.array([1.0])"
   ]
  },
  {
   "cell_type": "code",
   "execution_count": 11,
   "metadata": {},
   "outputs": [
    {
     "ename": "NameError",
     "evalue": "name 'np' is not defined",
     "output_type": "error",
     "traceback": [
      "\u001b[0;31m---------------------------------------------------------------------------\u001b[0m",
      "\u001b[0;31mNameError\u001b[0m                                 Traceback (most recent call last)",
      "Cell \u001b[0;32mIn[11], line 2\u001b[0m\n\u001b[1;32m      1\u001b[0m y_exact \u001b[38;5;241m=\u001b[39m np\u001b[38;5;241m.\u001b[39mexp(\u001b[38;5;241m-\u001b[39m(xval\u001b[38;5;241m*\u001b[39m\u001b[38;5;241m*\u001b[39m\u001b[38;5;241m2\u001b[39m)\u001b[38;5;241m/\u001b[39m\u001b[38;5;241m2\u001b[39m)\n\u001b[0;32m----> 2\u001b[0m y_euler \u001b[38;5;241m=\u001b[39m comphy\u001b[38;5;241m.\u001b[39mcall(comphy\u001b[38;5;241m.\u001b[39meuler,a,b,N,y0,f1)\n\u001b[1;32m      3\u001b[0m y_mid \u001b[38;5;241m=\u001b[39m comphy\u001b[38;5;241m.\u001b[39mcall(comphy\u001b[38;5;241m.\u001b[39mmidpoint,a,b,N,y0,f1)\n\u001b[1;32m      4\u001b[0m y_rk4 \u001b[38;5;241m=\u001b[39m comphy\u001b[38;5;241m.\u001b[39mcall(comphy\u001b[38;5;241m.\u001b[39mrk4,a,b,N,y0,f1)\n",
      "File \u001b[0;32m~/Projects/PH3205/10.0.1.68/comphy.py:17\u001b[0m, in \u001b[0;36mcall\u001b[0;34m(meth, a, b, N, y0, f)\u001b[0m\n\u001b[1;32m     14\u001b[0m     y_n \u001b[38;5;241m=\u001b[39m y \u001b[38;5;241m+\u001b[39m (k1\u001b[38;5;241m+\u001b[39m\u001b[38;5;241m2\u001b[39m\u001b[38;5;241m*\u001b[39mk2\u001b[38;5;241m+\u001b[39m\u001b[38;5;241m2\u001b[39m\u001b[38;5;241m*\u001b[39mk3\u001b[38;5;241m+\u001b[39mk4)\u001b[38;5;241m/\u001b[39m\u001b[38;5;241m6\u001b[39m\n\u001b[1;32m     15\u001b[0m     \u001b[38;5;28;01mreturn\u001b[39;00m y_n\n\u001b[0;32m---> 17\u001b[0m \u001b[38;5;28;01mdef\u001b[39;00m \u001b[38;5;21mcall\u001b[39m(meth,a,b,N,y0,f): \u001b[38;5;66;03m# call function Discretizes and generates method\u001b[39;00m\n\u001b[1;32m     18\u001b[0m     h \u001b[38;5;241m=\u001b[39m (b\u001b[38;5;241m-\u001b[39ma)\u001b[38;5;241m/\u001b[39m(N\u001b[38;5;241m-\u001b[39m\u001b[38;5;241m1\u001b[39m)\n\u001b[1;32m     19\u001b[0m     ys \u001b[38;5;241m=\u001b[39m np\u001b[38;5;241m.\u001b[39mzeros((N, \u001b[38;5;28mlen\u001b[39m(y0)))\n",
      "\u001b[0;31mNameError\u001b[0m: name 'np' is not defined"
     ]
    }
   ],
   "source": [
    "\n",
    "y_exact = np.exp(-(xval**2)/2)\n",
    "y_euler = comphy.call(comphy.euler,a,b,N,y0,f1)\n",
    "y_mid = comphy.call(comphy.midpoint,a,b,N,y0,f1)\n",
    "y_rk4 = comphy.call(comphy.rk4,a,b,N,y0,f1)"
   ]
  },
  {
   "cell_type": "code",
   "execution_count": null,
   "metadata": {},
   "outputs": [],
   "source": []
  }
 ],
 "metadata": {
  "kernelspec": {
   "display_name": "jupyter",
   "language": "python",
   "name": "python3"
  },
  "language_info": {
   "codemirror_mode": {
    "name": "ipython",
    "version": 3
   },
   "file_extension": ".py",
   "mimetype": "text/x-python",
   "name": "python",
   "nbconvert_exporter": "python",
   "pygments_lexer": "ipython3",
   "version": "3.12.8"
  }
 },
 "nbformat": 4,
 "nbformat_minor": 2
}
