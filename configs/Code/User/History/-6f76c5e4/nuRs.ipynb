{
 "cells": [
  {
   "cell_type": "code",
   "execution_count": 4,
   "metadata": {},
   "outputs": [
    {
     "ename": "NameError",
     "evalue": "name 'f1' is not defined",
     "output_type": "error",
     "traceback": [
      "\u001b[0;31m---------------------------------------------------------------------------\u001b[0m",
      "\u001b[0;31mNameError\u001b[0m                                 Traceback (most recent call last)",
      "Cell \u001b[0;32mIn[4], line 6\u001b[0m\n\u001b[1;32m      4\u001b[0m \u001b[38;5;28;01mfrom\u001b[39;00m \u001b[38;5;21;01mscipy\u001b[39;00m\u001b[38;5;21;01m.\u001b[39;00m\u001b[38;5;21;01moptimize\u001b[39;00m \u001b[38;5;28;01mimport\u001b[39;00m curve_fit\n\u001b[1;32m      5\u001b[0m plt\u001b[38;5;241m.\u001b[39mstyle\u001b[38;5;241m.\u001b[39muse(\u001b[38;5;124m'\u001b[39m\u001b[38;5;124mscience\u001b[39m\u001b[38;5;124m'\u001b[39m)\n\u001b[0;32m----> 6\u001b[0m \u001b[38;5;28;01mimport\u001b[39;00m \u001b[38;5;21;01mcomphy\u001b[39;00m\n",
      "File \u001b[0;32m~/Projects/PH3205/10.0.1.68/comphy.py:7\u001b[0m\n\u001b[1;32m      5\u001b[0m     k1 \u001b[38;5;241m=\u001b[39m h \u001b[38;5;241m*\u001b[39m f(x, y)\n\u001b[1;32m      6\u001b[0m     \u001b[38;5;28;01mreturn\u001b[39;00m y \u001b[38;5;241m+\u001b[39m h \u001b[38;5;241m*\u001b[39m f(x \u001b[38;5;241m+\u001b[39m h \u001b[38;5;241m/\u001b[39m \u001b[38;5;241m2\u001b[39m, y \u001b[38;5;241m+\u001b[39m k1 \u001b[38;5;241m/\u001b[39m \u001b[38;5;241m2\u001b[39m)\n\u001b[0;32m----> 7\u001b[0m \u001b[38;5;28;01mdef\u001b[39;00m \u001b[38;5;21mrk4\u001b[39m(y,x,h,f\u001b[38;5;241m=\u001b[39mf1):\n\u001b[1;32m      8\u001b[0m     k1 \u001b[38;5;241m=\u001b[39m h\u001b[38;5;241m*\u001b[39mf(x,y)\n\u001b[1;32m      9\u001b[0m     k2 \u001b[38;5;241m=\u001b[39m h\u001b[38;5;241m*\u001b[39mf(x\u001b[38;5;241m+\u001b[39mh\u001b[38;5;241m/\u001b[39m\u001b[38;5;241m2\u001b[39m,y\u001b[38;5;241m+\u001b[39mk1\u001b[38;5;241m/\u001b[39m\u001b[38;5;241m2\u001b[39m)\n",
      "\u001b[0;31mNameError\u001b[0m: name 'f1' is not defined"
     ]
    }
   ],
   "source": [
    "import numpy as np\n",
    "import matplotlib.pyplot as plt\n",
    "import scienceplots\n",
    "from scipy.optimize import curve_fit\n",
    "plt.style.use('science')\n",
    "import comphy"
   ]
  },
  {
   "cell_type": "code",
   "execution_count": null,
   "metadata": {},
   "outputs": [],
   "source": []
  }
 ],
 "metadata": {
  "kernelspec": {
   "display_name": "jupyter",
   "language": "python",
   "name": "python3"
  },
  "language_info": {
   "codemirror_mode": {
    "name": "ipython",
    "version": 3
   },
   "file_extension": ".py",
   "mimetype": "text/x-python",
   "name": "python",
   "nbconvert_exporter": "python",
   "pygments_lexer": "ipython3",
   "version": "3.12.8"
  }
 },
 "nbformat": 4,
 "nbformat_minor": 2
}
